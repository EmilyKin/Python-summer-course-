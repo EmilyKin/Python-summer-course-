{
  "cells": [
    {
      "cell_type": "markdown",
      "metadata": {
        "id": "SDVjo2vDkB0s"
      },
      "source": [
        "# Tuesday Homework 2: More fun with for loops and if statements"
      ]
    },
    {
      "cell_type": "markdown",
      "metadata": {
        "id": "LV10WuDmkB0y"
      },
      "source": [
        "<br>In today's lecture, we walked through one common situation you'll use in your own Python code - looping through a list and appending items to a new list. \n",
        "<br><br>This homework walks through 4 other common situations you'll encounter. For each example, you should take a moment before running the code to try and predict what the output will be."
      ]
    },
    {
      "cell_type": "markdown",
      "metadata": {
        "id": "gsFHq-JJkB0z"
      },
      "source": [
        "## <br>Example 1 - Doing something with each item in a list"
      ]
    },
    {
      "cell_type": "markdown",
      "metadata": {
        "id": "IY-8qNo5kB0z"
      },
      "source": [
        "<br>First, let's store a list of the high temperatures on Northwestern's Qatar campus for the past week:"
      ]
    },
    {
      "cell_type": "code",
      "execution_count": 7,
      "metadata": {
        "id": "AawjJsz2kB0z"
      },
      "outputs": [],
      "source": [
        "c_temps = [43, 45, 47, 41, 37, 43, 42]"
      ]
    },
    {
      "cell_type": "markdown",
      "metadata": {
        "id": "YOfpJsvmkB00"
      },
      "source": [
        "<br>The equation to convert from Celsius to Farenheit is F = C x 9/5 + 32. \n",
        "<br>We can write a for loop to convert our `c_temps` to Farenheit:"
      ]
    },
    {
      "cell_type": "code",
      "execution_count": 8,
      "metadata": {
        "id": "YU7LxIAzkB01",
        "outputId": "95184ece-f301-41a0-b19e-3a32f26fe310",
        "colab": {
          "base_uri": "https://localhost:8080/"
        }
      },
      "outputs": [
        {
          "output_type": "stream",
          "name": "stdout",
          "text": [
            "109.4\n",
            "113.0\n",
            "116.60000000000001\n",
            "105.8\n",
            "98.60000000000001\n",
            "109.4\n",
            "107.60000000000001\n"
          ]
        }
      ],
      "source": [
        "for temp in c_temps:\n",
        "    f = temp * (9/5) + 32\n",
        "    print(f)"
      ]
    },
    {
      "cell_type": "markdown",
      "metadata": {
        "id": "3CBOFKaxkB01"
      },
      "source": [
        "<br>Let's improve this output by rounding the temperatures to one digit past the decimal, and by writing a complete sentence:"
      ]
    },
    {
      "cell_type": "code",
      "execution_count": 9,
      "metadata": {
        "id": "YIQ47tt7kB02",
        "outputId": "6e6a4f0b-7e1b-4a43-c02f-56e43f1f0f99",
        "colab": {
          "base_uri": "https://localhost:8080/"
        }
      },
      "outputs": [
        {
          "output_type": "stream",
          "name": "stdout",
          "text": [
            "The high temperature was 109.4 degrees F (43 C).\n",
            "The high temperature was 113.0 degrees F (45 C).\n",
            "The high temperature was 116.6 degrees F (47 C).\n",
            "The high temperature was 105.8 degrees F (41 C).\n",
            "The high temperature was 98.6 degrees F (37 C).\n",
            "The high temperature was 109.4 degrees F (43 C).\n",
            "The high temperature was 107.6 degrees F (42 C).\n"
          ]
        }
      ],
      "source": [
        "for temp in c_temps:\n",
        "    f = temp * (9/5) + 32\n",
        "    f2 = round(f, 1)\n",
        "    print(\"The high temperature was \" + str(f2) + \" degrees F (\" + str(temp) + \" C).\")"
      ]
    },
    {
      "cell_type": "markdown",
      "metadata": {
        "id": "sd9dBI47kB02"
      },
      "source": [
        "### <br><br>Exercise 1"
      ]
    },
    {
      "cell_type": "markdown",
      "metadata": {
        "id": "6xO-q2cDkB02"
      },
      "source": [
        "First, store this list. It contains the world record fastest 5K times for men and women:"
      ]
    },
    {
      "cell_type": "code",
      "execution_count": 2,
      "metadata": {
        "id": "lEWZb9gdkB03"
      },
      "outputs": [],
      "source": [
        "fastest5k = [12.6225, 14.1858333]"
      ]
    },
    {
      "cell_type": "markdown",
      "metadata": {
        "id": "uwNJQmTEkB03"
      },
      "source": [
        "<br>5 kilometers is equal to 3.10686 miles."
      ]
    },
    {
      "cell_type": "markdown",
      "metadata": {
        "id": "VjexjxT-kB03"
      },
      "source": [
        "To convert a runner's 5K time to their 1 mile time, use the equation:\n",
        "<br>mile_time = fiveK_time / 3.10686"
      ]
    },
    {
      "cell_type": "markdown",
      "metadata": {
        "id": "Mhk1kQJBkB03"
      },
      "source": [
        "<br>Write a for loop to loop through the `fastest5k` list. Inside the for loop, convert the 5K time to a mile time, round the mile time to two digits after the decimal point, and print the answer in a complete sentence."
      ]
    },
    {
      "cell_type": "code",
      "execution_count": 12,
      "metadata": {
        "id": "mqph_IFYkB04",
        "outputId": "4508ee32-7867-4392-a8af-73cecd474801",
        "colab": {
          "base_uri": "https://localhost:8080/"
        }
      },
      "outputs": [
        {
          "output_type": "stream",
          "name": "stdout",
          "text": [
            "The fastest running speed for men is 4.06 and for woman is 4.57\n"
          ]
        }
      ],
      "source": [
        "fastest5Knew = []\n",
        "\n",
        "for fiveK_time in fastest5k:\n",
        "  mile_time = fiveK_time/3.10686\n",
        "  mile_time = round(mile_time, 2)\n",
        "  fastest5Knew.append(mile_time)\n",
        "\n",
        "print(\"The fastest running speed for men is \" + str(fastest5Knew[0]) + \" and for woman is \" + str(fastest5Knew[1]))"
      ]
    },
    {
      "cell_type": "code",
      "execution_count": 13,
      "metadata": {
        "id": "g8fCu54tkB04",
        "outputId": "024580b1-2535-4a68-a112-293f7acda3d0",
        "colab": {
          "base_uri": "https://localhost:8080/"
        }
      },
      "outputs": [
        {
          "output_type": "stream",
          "name": "stdout",
          "text": [
            "The fastest running speed for men is 4.06 and for woman is 4.57\n"
          ]
        }
      ],
      "source": [
        "fastest5Knew = [0]*2\n",
        "for count, fiveK_time in enumerate(fastest5k):\n",
        "  mile_time = fiveK_time/3.10686\n",
        "  mile_time = round(mile_time, 2)\n",
        "  fastest5Knew[count] = mile_time\n",
        "print(\"The fastest running speed for men is \" + str(fastest5Knew[0]) + \" and for woman is \" + str(fastest5Knew[1]))"
      ]
    },
    {
      "cell_type": "code",
      "execution_count": null,
      "metadata": {
        "id": "IgLJ7MPpkB04"
      },
      "outputs": [],
      "source": []
    },
    {
      "cell_type": "markdown",
      "metadata": {
        "id": "Bs35kEsjkB04"
      },
      "source": [
        "## <br><br><br>Example 2 - Using all the items in the list to find one number"
      ]
    },
    {
      "cell_type": "markdown",
      "metadata": {
        "id": "l56jYmtQkB04"
      },
      "source": [
        "This list contains the names of students in your class:"
      ]
    },
    {
      "cell_type": "code",
      "execution_count": 14,
      "metadata": {
        "id": "mp7sLHRIkB04"
      },
      "outputs": [],
      "source": [
        "students = [\"Eleven\", \"Dustin\", \"Mike\", \"Will\", \"Lucas\", \"Max\"]"
      ]
    },
    {
      "cell_type": "markdown",
      "metadata": {
        "id": "7rEpK0gtkB05"
      },
      "source": [
        "<br>On your classroom wall, you want to spell out all of the students' names with one letter per piece of paper, but you need to know how many pieces of paper you need. Luckily, the `len()` function will tell you how many letters are in each name, but you need to tally up the total."
      ]
    },
    {
      "cell_type": "markdown",
      "metadata": {
        "id": "w9C85OW_kB05"
      },
      "source": [
        "<br>To do this, you are first going to assign the number zero to a variable:"
      ]
    },
    {
      "cell_type": "code",
      "execution_count": 15,
      "metadata": {
        "id": "ZcHwo7vAkB05"
      },
      "outputs": [],
      "source": [
        "papers = 0"
      ]
    },
    {
      "cell_type": "markdown",
      "metadata": {
        "id": "BbxWBLMAkB05"
      },
      "source": [
        "<br>Next, you can loop through the list, adding the length of each name to your `papers` variable as you go:"
      ]
    },
    {
      "cell_type": "code",
      "execution_count": 16,
      "metadata": {
        "id": "otrWtTMRkB05"
      },
      "outputs": [],
      "source": [
        "for s in students:\n",
        "    papers = papers + len(s)"
      ]
    },
    {
      "cell_type": "markdown",
      "metadata": {
        "id": "PgwGtgBWkB05"
      },
      "source": [
        "Let's see if it worked:"
      ]
    },
    {
      "cell_type": "code",
      "execution_count": 17,
      "metadata": {
        "id": "7nFOnoNQkB05",
        "outputId": "8b6b8d68-5027-44c6-e7f7-8924bf3b08d8",
        "colab": {
          "base_uri": "https://localhost:8080/"
        }
      },
      "outputs": [
        {
          "output_type": "stream",
          "name": "stdout",
          "text": [
            "28\n"
          ]
        }
      ],
      "source": [
        "print(papers)"
      ]
    },
    {
      "cell_type": "markdown",
      "metadata": {
        "id": "T-DvkMcXkB05"
      },
      "source": [
        "<br>This is a common situation that comes up when you're coding, so it's good to practice it now."
      ]
    },
    {
      "cell_type": "markdown",
      "metadata": {
        "id": "NxFauTzbkB06"
      },
      "source": [
        "### <br><br>Exercise 2"
      ]
    },
    {
      "cell_type": "markdown",
      "metadata": {
        "id": "X1YIWZadkB06"
      },
      "source": [
        "<br>This list contains the dimensions of your new fish tank, in inches:"
      ]
    },
    {
      "cell_type": "code",
      "execution_count": 18,
      "metadata": {
        "id": "m1YsWkeikB06"
      },
      "outputs": [],
      "source": [
        "tank = [32, 17, 31]"
      ]
    },
    {
      "cell_type": "markdown",
      "metadata": {
        "id": "IGj9gWVZkB06"
      },
      "source": [
        "<br>You want to calculate the volume of your fish tank in cubic inches. The equation is length x width x height, but your length, width, and height are stored in your list."
      ]
    },
    {
      "cell_type": "markdown",
      "metadata": {
        "id": "UBZVe9SCkB06"
      },
      "source": [
        "First create a variable called `volume` that contains the number 1:"
      ]
    },
    {
      "cell_type": "code",
      "execution_count": 20,
      "metadata": {
        "id": "E2Vy7z4TkB06"
      },
      "outputs": [],
      "source": [
        "volume = 1"
      ]
    },
    {
      "cell_type": "markdown",
      "metadata": {
        "id": "FaRp30gOkB06"
      },
      "source": [
        "Write a for loop to loop through the `tank` list, reassigning the variable `volume` to the product of  each item in the list and `volume`."
      ]
    },
    {
      "cell_type": "code",
      "execution_count": 21,
      "metadata": {
        "id": "olA4Tln7kB06"
      },
      "outputs": [],
      "source": [
        "for dimension in tank:\n",
        "    volume = volume * dimension "
      ]
    },
    {
      "cell_type": "markdown",
      "metadata": {
        "id": "1zeONeKikB06"
      },
      "source": [
        "Now print the variable `volume`:"
      ]
    },
    {
      "cell_type": "code",
      "execution_count": 22,
      "metadata": {
        "id": "OpO7p3nOkB06",
        "outputId": "cc3a4f3f-337e-451c-c30f-b420d6e6193a",
        "colab": {
          "base_uri": "https://localhost:8080/"
        }
      },
      "outputs": [
        {
          "output_type": "stream",
          "name": "stdout",
          "text": [
            "16864\n"
          ]
        }
      ],
      "source": [
        "print (volume)"
      ]
    },
    {
      "cell_type": "markdown",
      "metadata": {
        "id": "5k7dxBfHkB06"
      },
      "source": [
        "## <br><br><br>Example 3 - Using a for loop with if/elif/else statements to filter the items in a list."
      ]
    },
    {
      "cell_type": "code",
      "execution_count": 23,
      "metadata": {
        "id": "6BJxPpI-kB07"
      },
      "outputs": [],
      "source": [
        "students = [\"Eleven\", \"Dustin\", \"Mike\", \"Will\", \"Lucas\", \"Max\"]"
      ]
    },
    {
      "cell_type": "code",
      "execution_count": 24,
      "metadata": {
        "id": "jlTMaeaakB07",
        "outputId": "973abf78-9856-471b-c8ed-be07d8424b1f",
        "colab": {
          "base_uri": "https://localhost:8080/"
        }
      },
      "outputs": [
        {
          "output_type": "stream",
          "name": "stdout",
          "text": [
            "I'm not sure who this student is, they just showed up one day.\n",
            "Dustin can move up to 8th grade.\n",
            "Mike can move up to 8th grade.\n",
            "Will should repeat 7th grade because of absences.\n",
            "Lucas can move up to 8th grade.\n",
            "Max can move up to 8th grade.\n"
          ]
        }
      ],
      "source": [
        "for student in students:\n",
        "    if student == \"Will\":\n",
        "        print(student + \" should repeat 7th grade because of absences.\")\n",
        "    elif student == \"Eleven\":\n",
        "        print(\"I'm not sure who this student is, they just showed up one day.\")\n",
        "    else:\n",
        "        print(student + \" can move up to 8th grade.\")"
      ]
    },
    {
      "cell_type": "markdown",
      "metadata": {
        "id": "IltFjO0qkB07"
      },
      "source": [
        "<br>We can add more code under each if/elif/else statement. Let's add the students to the correct empty list:"
      ]
    },
    {
      "cell_type": "code",
      "execution_count": 25,
      "metadata": {
        "id": "vx9gB1TokB07",
        "outputId": "d04b3054-b0b4-4c5d-f0d0-ba136b7d499b",
        "colab": {
          "base_uri": "https://localhost:8080/"
        }
      },
      "outputs": [
        {
          "output_type": "stream",
          "name": "stdout",
          "text": [
            "I'm not sure who this student is, they just showed up one day.\n",
            "Dustin can move up to 8th grade.\n",
            "Mike can move up to 8th grade.\n",
            "Will should repeat 7th grade because of absences.\n",
            "Lucas can move up to 8th grade.\n",
            "Max can move up to 8th grade.\n"
          ]
        }
      ],
      "source": [
        "grade_8 = []\n",
        "grade_7 = []\n",
        "unsure = []\n",
        "for student in students:\n",
        "    if student == \"Will\":\n",
        "        print(student + \" should repeat 7th grade because of absences.\")\n",
        "        grade_7.append(student)\n",
        "    elif student == \"Eleven\":\n",
        "        print(\"I'm not sure who this student is, they just showed up one day.\")\n",
        "        unsure.append(student)\n",
        "    else:\n",
        "        print(student + \" can move up to 8th grade.\")\n",
        "        grade_8.append(student)"
      ]
    },
    {
      "cell_type": "code",
      "execution_count": 26,
      "metadata": {
        "id": "99bNku8jkB07",
        "outputId": "a7fd6009-38e7-44ed-ecca-b4aba9a56dce",
        "colab": {
          "base_uri": "https://localhost:8080/"
        }
      },
      "outputs": [
        {
          "output_type": "stream",
          "name": "stdout",
          "text": [
            "Grade 7:\n",
            "['Will']\n",
            "Grade 8:\n",
            "['Dustin', 'Mike', 'Lucas', 'Max']\n",
            "Unsure where to place:\n",
            "['Eleven']\n"
          ]
        }
      ],
      "source": [
        "print(\"Grade 7:\")\n",
        "print(grade_7)\n",
        "print(\"Grade 8:\")\n",
        "print(grade_8)\n",
        "print(\"Unsure where to place:\")\n",
        "print(unsure)"
      ]
    },
    {
      "cell_type": "markdown",
      "metadata": {
        "id": "S6i5dGR3kB07"
      },
      "source": [
        "### <br><br>Exercise 3"
      ]
    },
    {
      "cell_type": "markdown",
      "metadata": {
        "id": "XW02i-yKkB08"
      },
      "source": [
        "*This one will take a little thought. There are several possible answers.*"
      ]
    },
    {
      "cell_type": "code",
      "execution_count": null,
      "metadata": {
        "id": "7nlvAU76kB08"
      },
      "outputs": [],
      "source": [
        "grades = [90, 75, 92, 89, 95, 94, 100, 92]"
      ]
    },
    {
      "cell_type": "markdown",
      "metadata": {
        "id": "hjpSRkZtkB08"
      },
      "source": [
        "The list `grades` shows the homework grades that one student received over the quarter. You told the students that you would drop their one lowest homework grade.\n",
        "<br><br>Create a new empty list called `final_grades`:"
      ]
    },
    {
      "cell_type": "code",
      "execution_count": null,
      "metadata": {
        "id": "Iz2yHyLokB08"
      },
      "outputs": [],
      "source": [
        "final_grades = []"
      ]
    },
    {
      "cell_type": "markdown",
      "metadata": {
        "id": "2k6fSUlzkB08"
      },
      "source": [
        "<br>Write a for loop to loop through `grades`. **For** each grade in the list, **if** the grade is **not equal to** the lowest grade in the list, **append** it to `final_grades`:\n",
        "<br>*Hint: you can use the min() function to find the lowest grade in the list.*"
      ]
    },
    {
      "cell_type": "code",
      "execution_count": null,
      "metadata": {
        "id": "bOsB5TW0kB08"
      },
      "outputs": [],
      "source": [
        "for count, g in enumerate(grades):\n",
        "    if g = \"Will\":\n",
        "        print(student + \" should repeat 7th grade because of absences.\")\n",
        "        grade_7.append(student)"
      ]
    },
    {
      "cell_type": "markdown",
      "metadata": {
        "id": "MaFBHwQ6kB08"
      },
      "source": [
        "Print `final_grades`."
      ]
    },
    {
      "cell_type": "code",
      "execution_count": null,
      "metadata": {
        "id": "yCsMZpbUkB08"
      },
      "outputs": [],
      "source": []
    },
    {
      "cell_type": "markdown",
      "metadata": {
        "id": "CHHvNwM7kB08"
      },
      "source": [
        "## <br><br><br>Example 4: Using try/except to handle unexpected variations in a list"
      ]
    },
    {
      "cell_type": "markdown",
      "metadata": {
        "id": "cUFqCeWPkB08"
      },
      "source": [
        "We often need to use try/except if we aren't sure whether all the items in our list are of the correct data type."
      ]
    },
    {
      "cell_type": "code",
      "execution_count": null,
      "metadata": {
        "id": "Sy7TuBqskB08"
      },
      "outputs": [],
      "source": [
        "test_scores = [90, 95, \"absent\", 100, 76]"
      ]
    },
    {
      "cell_type": "markdown",
      "metadata": {
        "id": "AixyHP5YkB09"
      },
      "source": [
        "Let's say we want to give an extra 2 points for every test."
      ]
    },
    {
      "cell_type": "code",
      "execution_count": null,
      "metadata": {
        "id": "ShMlDnbmkB09"
      },
      "outputs": [],
      "source": [
        "bonus_scores = []\n",
        "for score in test_scores:\n",
        "    bonus_scores.append(score + 2)\n",
        "print(bonus_scores)"
      ]
    },
    {
      "cell_type": "markdown",
      "metadata": {
        "id": "SUDJABnqkB09"
      },
      "source": [
        "<br>This gave us an error because you can't add the number 2 to the word \"absent\", so we can rewrite it:"
      ]
    },
    {
      "cell_type": "code",
      "execution_count": null,
      "metadata": {
        "id": "xIU5cHBqkB09"
      },
      "outputs": [],
      "source": [
        "bonus_scores = []\n",
        "for score in test_scores:\n",
        "    try:\n",
        "        bonus_scores.append(score + 2)\n",
        "    except TypeError:\n",
        "        bonus_scores.append(score)\n",
        "print(bonus_scores)"
      ]
    },
    {
      "cell_type": "markdown",
      "metadata": {
        "id": "KLZBXGvNkB09"
      },
      "source": [
        "<br>You need to specify the type of error in your except statement.\n",
        "<br><br>Sometimes this means that you need to run the code without try/except first to get the name of the error you should expect.\n",
        "<br><br>If you don't include the error type, it will perform the except code for all exceptions, which might seem great, but it can actually create more trouble for you down the road."
      ]
    },
    {
      "cell_type": "code",
      "execution_count": null,
      "metadata": {
        "id": "Hk13sEghkB09"
      },
      "outputs": [],
      "source": [
        "test_scores2 = [90, 95, \"absent\", 100, \"76\"]"
      ]
    },
    {
      "cell_type": "markdown",
      "metadata": {
        "id": "_UyJxHgOkB09"
      },
      "source": [
        "Here we have the same list, except you accidentally entered the last score as a string instead of an integer. Let's try this list with the same code we just wrote:"
      ]
    },
    {
      "cell_type": "code",
      "execution_count": null,
      "metadata": {
        "id": "9BEhLQYDkB09"
      },
      "outputs": [],
      "source": [
        "bonus_scores2 = []\n",
        "for score in test_scores2:\n",
        "    try:\n",
        "        bonus_scores2.append(score + 2)\n",
        "    except TypeError:\n",
        "        bonus_scores2.append(score)\n",
        "print(bonus_scores2)"
      ]
    },
    {
      "cell_type": "markdown",
      "metadata": {
        "id": "n03gDr4akB09"
      },
      "source": [
        "<br>It didn't add bonus points to the last score, even though you need that score included. Let's try this to account for the last score:"
      ]
    },
    {
      "cell_type": "code",
      "execution_count": null,
      "metadata": {
        "id": "VYji3nVEkB09"
      },
      "outputs": [],
      "source": [
        "bonus_scores2 = []\n",
        "for score in test_scores2:\n",
        "    try:\n",
        "        bonus_scores2.append(score + 2)\n",
        "    except TypeError:\n",
        "        bonus_scores2.append(int(score) + 2)\n",
        "print(bonus_scores2)"
      ]
    },
    {
      "cell_type": "markdown",
      "metadata": {
        "id": "aPNfYGJ6kB0-"
      },
      "source": [
        "<br>Now we can see that the second error is a ValueError, so we can add a second try/except to our code:"
      ]
    },
    {
      "cell_type": "code",
      "execution_count": null,
      "metadata": {
        "id": "y343BIp6kB0-"
      },
      "outputs": [],
      "source": [
        "bonus_scores2 = []\n",
        "for score in test_scores2:\n",
        "    try:\n",
        "        bonus_scores2.append(score + 2)\n",
        "    except TypeError:\n",
        "        try:\n",
        "            bonus_scores2.append(int(score) + 2)\n",
        "        except ValueError:\n",
        "            bonus_scores2.append(score)\n",
        "print(bonus_scores2)"
      ]
    },
    {
      "cell_type": "markdown",
      "metadata": {
        "id": "-Vm2EczrkB0-"
      },
      "source": [
        "<br>This was a complicated example, but it shows how it can take some logic to get the results you want."
      ]
    },
    {
      "cell_type": "markdown",
      "metadata": {
        "id": "oheOneO5kB0-"
      },
      "source": [
        "### <br><br>Exercise 4"
      ]
    },
    {
      "cell_type": "markdown",
      "metadata": {
        "id": "rx73zdl3kB0-"
      },
      "source": [
        "Store this list of students:"
      ]
    },
    {
      "cell_type": "code",
      "execution_count": null,
      "metadata": {
        "id": "74y2MxZ5kB0-"
      },
      "outputs": [],
      "source": [
        "students = [11, \"Dustin\", \"Mike\", \"Will\", \"Lucas\", \"Max\"]"
      ]
    },
    {
      "cell_type": "markdown",
      "metadata": {
        "id": "5QZaaM07kB0-"
      },
      "source": [
        "<br>Run the code below to identify the error:"
      ]
    },
    {
      "cell_type": "code",
      "execution_count": null,
      "metadata": {
        "id": "ZdA0gCgtkB0-"
      },
      "outputs": [],
      "source": [
        "for student in students:\n",
        "    print(len(student))"
      ]
    },
    {
      "cell_type": "markdown",
      "metadata": {
        "id": "cGQWcJIUkB0-"
      },
      "source": [
        "<br>Write a new loop to print the length of each student's name. Include a try/except block. You can decide what you want to do with 11 - pass? print something? change to a string?"
      ]
    },
    {
      "cell_type": "code",
      "execution_count": null,
      "metadata": {
        "id": "97qSM9gykB0_"
      },
      "outputs": [],
      "source": []
    },
    {
      "cell_type": "code",
      "execution_count": null,
      "metadata": {
        "id": "Mz7YIcdKkB0_"
      },
      "outputs": [],
      "source": []
    },
    {
      "cell_type": "code",
      "execution_count": null,
      "metadata": {
        "id": "EDBDq0imkB0_"
      },
      "outputs": [],
      "source": []
    }
  ],
  "metadata": {
    "kernelspec": {
      "display_name": "Python 3",
      "language": "python",
      "name": "python3"
    },
    "language_info": {
      "codemirror_mode": {
        "name": "ipython",
        "version": 3
      },
      "file_extension": ".py",
      "mimetype": "text/x-python",
      "name": "python",
      "nbconvert_exporter": "python",
      "pygments_lexer": "ipython3",
      "version": "3.7.3"
    },
    "colab": {
      "provenance": []
    }
  },
  "nbformat": 4,
  "nbformat_minor": 0
}